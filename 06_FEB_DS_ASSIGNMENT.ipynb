{
 "cells": [
  {
   "cell_type": "code",
   "execution_count": 35,
   "id": "d883134e",
   "metadata": {},
   "outputs": [
    {
     "name": "stdout",
     "output_type": "stream",
     "text": [
      "[1, 2, 3, 4, 44, 55, 66, 34, 56, 78, 89, 34, 1, 2, 3, 1, 34, 55, 67, 78, 89, 4, 45, 22, 61, 34, 56]\n"
     ]
    },
    {
     "data": {
      "text/plain": [
       "4134711838987085478833841242112000"
      ]
     },
     "execution_count": 35,
     "metadata": {},
     "output_type": "execute_result"
    }
   ],
   "source": [
    "## Que 1\n",
    "list1 = [1,2,3,4, [44,55,66, True], False, (34,56,78,89,34), {1,2,3,3,2,1}, {1:34, \"key2\": [55, 67, 78, 89], 4: (45,\n",
    "22, 61, 34)}, [56, 'data science'], 'Machine Learning']\n",
    "\n",
    "def product(lst:list)->float:\n",
    "    list2 =[]\n",
    "    for i in list1:\n",
    "        if(type(i)==int):\n",
    "            list2.append(i)\n",
    "        elif(type(i)==list or type(i)==tuple or type(i)==set):\n",
    "            for j in i:\n",
    "                if(type(j)==int):\n",
    "                    list2.append(j)\n",
    "        elif(type(i)==dict):\n",
    "            for j in i:\n",
    "                if(type(j)==int):\n",
    "                    list2.append(j)\n",
    "                if(type(i[j])==int):\n",
    "                    list2.append(i[j])\n",
    "                elif(type(i[j])==list or type(i[j])==tuple or type(i[j])==set):\n",
    "                    for k in i[j]:\n",
    "                        if(type(k)==int):\n",
    "                            list2.append(k)\n",
    "    print(list2)\n",
    "    product=1\n",
    "    for i in list2:\n",
    "        product = product*i\n",
    "    return product\n",
    "product(list1)\n",
    "        \n",
    "\n",
    "\n",
    "\n",
    "            \n",
    "            \n",
    "        \n",
    "        \n",
    "                \n",
    "        \n",
    "    "
   ]
  },
  {
   "cell_type": "code",
   "execution_count": 77,
   "id": "e3f8dcbe",
   "metadata": {},
   "outputs": [
    {
     "name": "stdout",
     "output_type": "stream",
     "text": [
      "r$dzmg$gl$yvxlnv$z$wzgz$hxrvmgrhg.\n"
     ]
    }
   ],
   "source": [
    "## Que 2\n",
    "def encrypt(msg):\n",
    "    msg = msg.lower()\n",
    "    enc = ''\n",
    "    for i in msg:\n",
    "        if i == ' ':\n",
    "            char='$'\n",
    "        elif i.isalpha():\n",
    "            char = chr(ord('z')-(ord(i)-ord('a')))\n",
    "        else:\n",
    "            char =i\n",
    "        enc += char\n",
    "    \n",
    "    return enc\n",
    "print(encrypt('I want to become a Data Scientist.'))\n",
    "            "
   ]
  },
  {
   "cell_type": "code",
   "execution_count": null,
   "id": "93a74ba8",
   "metadata": {},
   "outputs": [],
   "source": []
  },
  {
   "cell_type": "code",
   "execution_count": null,
   "id": "533edc35",
   "metadata": {},
   "outputs": [],
   "source": []
  },
  {
   "cell_type": "code",
   "execution_count": null,
   "id": "f4002464",
   "metadata": {},
   "outputs": [],
   "source": []
  }
 ],
 "metadata": {
  "kernelspec": {
   "display_name": "Python 3 (ipykernel)",
   "language": "python",
   "name": "python3"
  },
  "language_info": {
   "codemirror_mode": {
    "name": "ipython",
    "version": 3
   },
   "file_extension": ".py",
   "mimetype": "text/x-python",
   "name": "python",
   "nbconvert_exporter": "python",
   "pygments_lexer": "ipython3",
   "version": "3.9.13"
  }
 },
 "nbformat": 4,
 "nbformat_minor": 5
}
