{
 "cells": [
  {
   "cell_type": "code",
   "execution_count": 1,
   "id": "bb514d3d-d71e-48bc-9eb5-3502921ef2a0",
   "metadata": {},
   "outputs": [
    {
     "data": {
      "text/plain": [
       "('san', 100)"
      ]
     },
     "execution_count": 1,
     "metadata": {},
     "output_type": "execute_result"
    }
   ],
   "source": [
    "# 1. Class: A Class is like an object constructor, or a \"blueprint\" for creating objects.\n",
    "#  Object is simply collection of data(variables) and methods.\n",
    "# Example:\n",
    "class san:\n",
    "    def __init__(self, name,rollno):\n",
    "        self.name = name\n",
    "        self.rollno = rollno\n",
    "    def order(self):\n",
    "        return self.name, self.rollno\n",
    "s = san(\"san\",100)\n",
    "s.order()\n",
    "\n",
    "        "
   ]
  },
  {
   "cell_type": "code",
   "execution_count": 2,
   "id": "8435d574-2bcc-4c03-ae1b-5fab42c768f1",
   "metadata": {},
   "outputs": [],
   "source": [
    "# 2. Inheritance, Polymorphism, Encapsulation and Abstraction"
   ]
  },
  {
   "cell_type": "code",
   "execution_count": 3,
   "id": "905cad84-2f83-4479-a50c-e56d92d3c495",
   "metadata": {},
   "outputs": [
    {
     "data": {
      "text/plain": [
       "('san', 100)"
      ]
     },
     "execution_count": 3,
     "metadata": {},
     "output_type": "execute_result"
    }
   ],
   "source": [
    "# 3. \"__init__\" is a reseved method in python classes. It is called as a constructor in object oriented terminology. This method is called when an object is created from a class and it allows the class to initialize the attributes of the class.\n",
    "#example: \n",
    "class san:\n",
    "    def __init__(self, name,rollno):\n",
    "        self.name = name\n",
    "        self.rollno = rollno\n",
    "    def order(self):\n",
    "        return self.name, self.rollno\n",
    "s = san(\"san\",100)\n",
    "s.order()"
   ]
  },
  {
   "cell_type": "code",
   "execution_count": 4,
   "id": "3c567646-3fc4-4e83-a6c1-9596a36dc4cd",
   "metadata": {},
   "outputs": [],
   "source": [
    "# 4. The self is used to pointer or reference to the class. With out self in the class we may get error because it may not recognize the class"
   ]
  },
  {
   "cell_type": "code",
   "execution_count": 5,
   "id": "22b001fd-6877-4db7-b920-858fda917cc5",
   "metadata": {},
   "outputs": [],
   "source": [
    "# 5.Inheritance is a mechanism in which one class acquires the property of another class\n",
    "# Types of Inheritance in python:\n",
    "# 1. single Inheritance\n",
    "# 2. Multilevel Inheritance\n",
    "# 3. Multiple Inheritance\n",
    "# 4. hierarchical Inheritance\n",
    "# 5. Hybrid Inheritance"
   ]
  },
  {
   "cell_type": "code",
   "execution_count": null,
   "id": "28a180d7-d396-41a3-bac0-51dcaafe812e",
   "metadata": {},
   "outputs": [],
   "source": []
  }
 ],
 "metadata": {
  "kernelspec": {
   "display_name": "Python 3 (ipykernel)",
   "language": "python",
   "name": "python3"
  },
  "language_info": {
   "codemirror_mode": {
    "name": "ipython",
    "version": 3
   },
   "file_extension": ".py",
   "mimetype": "text/x-python",
   "name": "python",
   "nbconvert_exporter": "python",
   "pygments_lexer": "ipython3",
   "version": "3.10.8"
  }
 },
 "nbformat": 4,
 "nbformat_minor": 5
}
