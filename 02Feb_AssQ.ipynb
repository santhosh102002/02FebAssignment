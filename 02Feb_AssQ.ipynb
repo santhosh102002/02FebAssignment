{
 "cells": [
  {
   "cell_type": "markdown",
   "id": "fda7080b-8e3e-41fc-9104-9590355f7e9e",
   "metadata": {},
   "source": [
    "#### 1. characteristics of tuples:\n",
    "####  tuples are indexed, tuples have duplicates, tuples are immutable, tuples are ordered"
   ]
  },
  {
   "cell_type": "markdown",
   "id": "9e627183-5189-4729-9d23-ec84f6aed32e",
   "metadata": {},
   "source": [
    "#### 2. The methods of the tuples are count and index\n",
    "#### example for count:\n",
    "####  t = (1,2,3,4,5,1,1)\n",
    "####  t.count(1)\n",
    "####  example for index:\n",
    "####  t = (1,2,3,4,10)\n",
    "####  t.index(100)"
   ]
  },
  {
   "cell_type": "code",
   "execution_count": 18,
   "id": "fba90a6c-0bf1-4d0d-8437-933f058f58ec",
   "metadata": {},
   "outputs": [
    {
     "data": {
      "text/plain": [
       "[1, 2, 3, 4]"
      ]
     },
     "execution_count": 18,
     "metadata": {},
     "output_type": "execute_result"
    }
   ],
   "source": [
    "#### 3. SET collection datatypes in python do not allow duplicate items?\n",
    "List = [1, 1, 1, 2, 1, 3, 1, 4, 2, 1, 2, 2, 2, 3, 2, 4, 3, 1, 3, 2, 3, 3, 3, 4, 4, 1, 4, 2, 4, 3, 4, 4]\n",
    "List=set(List)\n",
    "List = list(List)\n",
    "List"
   ]
  },
  {
   "cell_type": "markdown",
   "id": "ed49a9ce-35ed-4585-8754-dbcab729d50b",
   "metadata": {},
   "source": [
    "#### 4.update() adds all missing elements to the set on which it is called whereas set. union() creates a new set.\n",
    "\n"
   ]
  },
  {
   "cell_type": "markdown",
   "id": "d3174cf5-8ad5-48f1-a4d7-fefdf3a08a9a",
   "metadata": {},
   "source": [
    "####  5. Dictionaries are used to store data values in key:value pairs.\n",
    "#### A dictionary is a collection which is ordered*, changeable and do not allow duplicates.\n",
    "#### Examples: d = {\"santhosh\" : 123, True: \"hello\"}\n",
    "#### Dictionaries are ORDERED data type"
   ]
  },
  {
   "cell_type": "code",
   "execution_count": 20,
   "id": "7e024846-bee7-483b-baa6-4ce3b119354f",
   "metadata": {},
   "outputs": [],
   "source": [
    "# 6. Yes, we can create nested dictionary\n",
    "# example:\n",
    "d = {\"santhosh\":123,\"prem\":{\"object\":\"hello\",True:123}}"
   ]
  },
  {
   "cell_type": "code",
   "execution_count": 36,
   "id": "f79161a4-be31-4df1-ae4b-dca74872bf00",
   "metadata": {},
   "outputs": [
    {
     "data": {
      "text/plain": [
       "'Data Science'"
      ]
     },
     "execution_count": 36,
     "metadata": {},
     "output_type": "execute_result"
    }
   ],
   "source": [
    "# 7. \n",
    "dict2={}\n",
    "dict2.setdefault(\"language\",\"python\")\n",
    "dict2.setdefault(\"course\",\"Data Science\")"
   ]
  },
  {
   "cell_type": "code",
   "execution_count": 24,
   "id": "f41cb9f9-fab3-4b03-b7cf-b1029e3ac362",
   "metadata": {},
   "outputs": [
    {
     "data": {
      "text/plain": [
       "dict_values(['Cricket', ['India', 'Australia', 'England', 'South Africa', 'Sri Lanka', 'New Zealand']])"
      ]
     },
     "execution_count": 24,
     "metadata": {},
     "output_type": "execute_result"
    }
   ],
   "source": [
    "### 8. The three view objects in dictionary python are keys,values,items\n",
    "dict1 = {'Sport': 'Cricket' , 'Teams': ['India', 'Australia', 'England', 'South Africa', 'Sri Lanka', 'New Zealand']}\n",
    "dict1.keys()\n",
    "dict1.values()\n",
    "dict1.items()"
   ]
  },
  {
   "cell_type": "code",
   "execution_count": null,
   "id": "94e93a86-3a6c-47d4-b03d-2482fadc037a",
   "metadata": {},
   "outputs": [],
   "source": []
  },
  {
   "cell_type": "code",
   "execution_count": null,
   "id": "7fdc9e29-08fc-4a72-b96f-5077dd0b992e",
   "metadata": {},
   "outputs": [],
   "source": []
  }
 ],
 "metadata": {
  "kernelspec": {
   "display_name": "Python 3 (ipykernel)",
   "language": "python",
   "name": "python3"
  },
  "language_info": {
   "codemirror_mode": {
    "name": "ipython",
    "version": 3
   },
   "file_extension": ".py",
   "mimetype": "text/x-python",
   "name": "python",
   "nbconvert_exporter": "python",
   "pygments_lexer": "ipython3",
   "version": "3.10.8"
  }
 },
 "nbformat": 4,
 "nbformat_minor": 5
}
