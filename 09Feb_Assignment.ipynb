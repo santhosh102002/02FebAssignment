{
 "cells": [
  {
   "cell_type": "code",
   "execution_count": 9,
   "id": "98f1a67d-a9ea-4c09-8f76-ff186b75ba55",
   "metadata": {},
   "outputs": [],
   "source": [
    "#1.create a vehicle class with an init method having instance variables as name_of_vehicle, max_speed\n",
    "#and average_of_vehicle.\n",
    "class vehicle:\n",
    "        def __init__(key,name_of_vehicle, max_speed,average_of_vehicle):\n",
    "            key.name_of_vehicle = name_of_vehicle\n",
    "            key.max_speed = max_speed\n",
    "            key.average_of_vehicle = average_of_vehicle\n",
    "        def get(key):\n",
    "            return key.name_of_vehicle,key.max_speed,key.average_of_vehicle\n"
   ]
  },
  {
   "cell_type": "code",
   "execution_count": 10,
   "id": "90569289-3689-4415-a36b-04684d5b13c3",
   "metadata": {},
   "outputs": [],
   "source": [
    "santhosh = vehicle(\"swift\",120,60)"
   ]
  },
  {
   "cell_type": "code",
   "execution_count": 11,
   "id": "ebb44e59-1408-4a62-90d9-0d59f18d5846",
   "metadata": {},
   "outputs": [
    {
     "data": {
      "text/plain": [
       "<bound method vehicle.get of <__main__.vehicle object at 0x7f2a8046d960>>"
      ]
     },
     "execution_count": 11,
     "metadata": {},
     "output_type": "execute_result"
    }
   ],
   "source": [
    "santhosh.get"
   ]
  },
  {
   "cell_type": "code",
   "execution_count": 12,
   "id": "54550c52-f186-425d-b1a1-2b2043775eea",
   "metadata": {},
   "outputs": [
    {
     "data": {
      "text/plain": [
       "('swift', 120, 60)"
      ]
     },
     "execution_count": 12,
     "metadata": {},
     "output_type": "execute_result"
    }
   ],
   "source": [
    "santhosh.get()"
   ]
  },
  {
   "cell_type": "code",
   "execution_count": 18,
   "id": "29f256f3-4743-475a-ab8b-7b01560d2149",
   "metadata": {},
   "outputs": [],
   "source": [
    "#2. \n",
    "class car(vehicle):\n",
    "    def seating_capacity(self,capacity):\n",
    "        self.capacity = capacity\n",
    "    def get(self):\n",
    "        return self.name_of_vehicle,self.capacity"
   ]
  },
  {
   "cell_type": "code",
   "execution_count": 20,
   "id": "c2115554-0792-4e98-9ee4-081d3d31398d",
   "metadata": {},
   "outputs": [],
   "source": [
    "santhosh = car(\"swift\",120,60)  # here in child class we have to send the arugments has mentioned in the above parent class either\n",
    "                                # name_of_vehicle, max_speed,average_of_vehicle"
   ]
  },
  {
   "cell_type": "code",
   "execution_count": 21,
   "id": "84e2b346-95dd-4fb1-b498-965b6f0442e4",
   "metadata": {},
   "outputs": [],
   "source": [
    "santhosh.seating_capacity(4)      "
   ]
  },
  {
   "cell_type": "code",
   "execution_count": 22,
   "id": "dd5684c1-34a6-4fca-a4b8-d3c44a21a08f",
   "metadata": {},
   "outputs": [
    {
     "data": {
      "text/plain": [
       "('swift', 4)"
      ]
     },
     "execution_count": 22,
     "metadata": {},
     "output_type": "execute_result"
    }
   ],
   "source": [
    "santhosh.get()     "
   ]
  },
  {
   "cell_type": "code",
   "execution_count": 23,
   "id": "62717e00-7348-41e4-b151-b358b42529c1",
   "metadata": {},
   "outputs": [],
   "source": [
    "# 3. In python we have multiple inheritence.\n",
    "# Multiple inheritance is a feature of some object-oriented computer programming languages in which an object or class can inherit features from more than one parent object or parent class.\n",
    "# example:\n",
    "class class1:\n",
    "    def test_class1(self):\n",
    "        print(\" This is the class of class1\")\n",
    "class class2:\n",
    "    def test_class2(self):\n",
    "        print(\" This is the class of class2\")\n",
    "class class3(class1,class2):\n",
    "    pass"
   ]
  },
  {
   "cell_type": "code",
   "execution_count": 26,
   "id": "5e50e9e3-5831-4493-8a6b-9a64accc3d80",
   "metadata": {},
   "outputs": [],
   "source": [
    "a = class3()"
   ]
  },
  {
   "cell_type": "code",
   "execution_count": 28,
   "id": "505cb878-17fe-40fc-addb-22c7b9193042",
   "metadata": {},
   "outputs": [
    {
     "name": "stdout",
     "output_type": "stream",
     "text": [
      " This is the class of class2\n"
     ]
    }
   ],
   "source": [
    "a.test_class2()"
   ]
  },
  {
   "cell_type": "code",
   "execution_count": 29,
   "id": "521f1f0c-43b5-48bc-9891-c3d222e16040",
   "metadata": {},
   "outputs": [
    {
     "name": "stdout",
     "output_type": "stream",
     "text": [
      " This is the class of class1\n"
     ]
    }
   ],
   "source": [
    "a.test_class1()"
   ]
  },
  {
   "cell_type": "code",
   "execution_count": 36,
   "id": "22a130f4-9798-461a-91eb-e8bd28250858",
   "metadata": {},
   "outputs": [],
   "source": [
    "#4. getter and setter in python\n",
    "# getter in python helps us to get the encapsulated data from a class and whereas setter enable us to set the values to the encapsulated variables.\n",
    "#examples:\n",
    "class san:\n",
    "    def __init__(self,amount):\n",
    "        self._amount= amount\n",
    "    def get_value(self):\n",
    "        return self._amount\n",
    "    def set_value(self,amount):\n",
    "        self._amount = amount"
   ]
  },
  {
   "cell_type": "code",
   "execution_count": 37,
   "id": "c90bc17a-578b-49ec-a8b3-858da3780e5a",
   "metadata": {},
   "outputs": [],
   "source": [
    "santhosh= san(1000)"
   ]
  },
  {
   "cell_type": "code",
   "execution_count": 38,
   "id": "28a194ba-bc50-477d-b02f-69ef9daaf117",
   "metadata": {},
   "outputs": [
    {
     "data": {
      "text/plain": [
       "1000"
      ]
     },
     "execution_count": 38,
     "metadata": {},
     "output_type": "execute_result"
    }
   ],
   "source": [
    "santhosh.get_value()"
   ]
  },
  {
   "cell_type": "code",
   "execution_count": 39,
   "id": "ab89c56b-7e00-4bbd-a330-11cf88f26096",
   "metadata": {},
   "outputs": [],
   "source": [
    "santhosh.set_value(2000)"
   ]
  },
  {
   "cell_type": "code",
   "execution_count": 41,
   "id": "6fcbd815-b660-4292-889e-6cb486d0bf31",
   "metadata": {},
   "outputs": [
    {
     "data": {
      "text/plain": [
       "2000"
      ]
     },
     "execution_count": 41,
     "metadata": {},
     "output_type": "execute_result"
    }
   ],
   "source": [
    "santhosh.get_value()"
   ]
  },
  {
   "cell_type": "code",
   "execution_count": 42,
   "id": "04d465de-8f0a-4fb9-b2ee-1c285b7a0841",
   "metadata": {},
   "outputs": [],
   "source": [
    "# 5. method overriding:Method overriding is an ability of any object-oriented programming language that allows a subclass or child class to provide a specific implementation of a method that is already provided by one of its super-classes or parent classes.\n",
    "class parent:\n",
    "    def show(self):\n",
    "        print(\" i am parent\")\n",
    "class child(parent):\n",
    "    def show(self):\n",
    "        print(\" i am child\")"
   ]
  },
  {
   "cell_type": "code",
   "execution_count": 43,
   "id": "905426f7-29cf-4f01-b61f-d3c9feda820d",
   "metadata": {},
   "outputs": [],
   "source": [
    "san = child()"
   ]
  },
  {
   "cell_type": "code",
   "execution_count": 44,
   "id": "42330d1a-bc49-4199-960f-05fd311fc5ca",
   "metadata": {},
   "outputs": [
    {
     "name": "stdout",
     "output_type": "stream",
     "text": [
      " i am child\n"
     ]
    }
   ],
   "source": [
    "san.show()"
   ]
  },
  {
   "cell_type": "code",
   "execution_count": null,
   "id": "7e8e4d9e-97b4-4b0f-bfb9-d1d67cb9bf1d",
   "metadata": {},
   "outputs": [],
   "source": []
  }
 ],
 "metadata": {
  "kernelspec": {
   "display_name": "Python 3 (ipykernel)",
   "language": "python",
   "name": "python3"
  },
  "language_info": {
   "codemirror_mode": {
    "name": "ipython",
    "version": 3
   },
   "file_extension": ".py",
   "mimetype": "text/x-python",
   "name": "python",
   "nbconvert_exporter": "python",
   "pygments_lexer": "ipython3",
   "version": "3.10.8"
  }
 },
 "nbformat": 4,
 "nbformat_minor": 5
}
