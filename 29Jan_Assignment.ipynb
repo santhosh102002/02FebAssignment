{
 "cells": [
  {
   "cell_type": "code",
   "execution_count": 1,
   "id": "b05ae56b-d47a-4a83-b20a-2a3264dac583",
   "metadata": {},
   "outputs": [],
   "source": [
    "#1. Guido Van Rossum"
   ]
  },
  {
   "cell_type": "code",
   "execution_count": 2,
   "id": "1c267012-f770-442b-85b2-d417d5071d5d",
   "metadata": {},
   "outputs": [],
   "source": [
    "#2. python supports object oriented language and Structured programming language"
   ]
  },
  {
   "cell_type": "code",
   "execution_count": 3,
   "id": "783f42f9-92f5-4c24-a551-fe013501bdd6",
   "metadata": {},
   "outputs": [],
   "source": [
    "#3. Yes "
   ]
  },
  {
   "cell_type": "code",
   "execution_count": 4,
   "id": "7202ded3-968c-4352-b5aa-f2f1b96bc42c",
   "metadata": {},
   "outputs": [],
   "source": [
    "#4. .py"
   ]
  },
  {
   "cell_type": "code",
   "execution_count": 5,
   "id": "991cf62b-7eef-42fc-a918-3b65d8e86d42",
   "metadata": {},
   "outputs": [],
   "source": [
    "#5. interpreted"
   ]
  },
  {
   "cell_type": "code",
   "execution_count": 6,
   "id": "65407f18-6c3c-4f87-9141-dbda7d91a520",
   "metadata": {},
   "outputs": [],
   "source": [
    "#6. A module, function body, Class definition"
   ]
  },
  {
   "cell_type": "code",
   "execution_count": 7,
   "id": "98bae20e-1b93-4635-9ceb-6653e06d3440",
   "metadata": {},
   "outputs": [],
   "source": [
    "#7. # is used for single line comment"
   ]
  },
  {
   "cell_type": "code",
   "execution_count": 8,
   "id": "8b1c783d-532c-4762-bb63-7654861246c8",
   "metadata": {},
   "outputs": [],
   "source": [
    "#8. python --version"
   ]
  },
  {
   "cell_type": "code",
   "execution_count": 9,
   "id": "0b2ff82c-0fe7-481b-a4e6-2fa2de27efd2",
   "metadata": {},
   "outputs": [],
   "source": [
    "#9. Lambda"
   ]
  },
  {
   "cell_type": "code",
   "execution_count": 10,
   "id": "a5e5b264-bc7e-4d55-b598-ac860769e051",
   "metadata": {},
   "outputs": [],
   "source": [
    "#10. preferred installer program"
   ]
  },
  {
   "cell_type": "code",
   "execution_count": 11,
   "id": "5c3448e6-1504-4834-8aa4-6cffda3f6565",
   "metadata": {},
   "outputs": [],
   "source": [
    "#11 . complex(), bool(), str(), len(), print() etc"
   ]
  },
  {
   "cell_type": "code",
   "execution_count": 12,
   "id": "3092a7d4-35a8-43b0-9eaf-7fbac274694e",
   "metadata": {},
   "outputs": [],
   "source": [
    "#12. 79"
   ]
  },
  {
   "cell_type": "code",
   "execution_count": 13,
   "id": "9397d3af-f375-4efa-ae14-18c3e9b9804f",
   "metadata": {},
   "outputs": [],
   "source": [
    "#13. easy to code, alot of packages, used in Machine learning and data science etc"
   ]
  },
  {
   "cell_type": "code",
   "execution_count": 14,
   "id": "8d288158-a473-416e-82ca-a50fce775c98",
   "metadata": {},
   "outputs": [],
   "source": [
    "#14. Memory management in Python involves a private heap containing all Python objects and data structures."
   ]
  },
  {
   "cell_type": "code",
   "execution_count": 15,
   "id": "040be401-f0b1-4053-9aa8-c515b3bdba00",
   "metadata": {},
   "outputs": [],
   "source": [
    "#15. we have type python download in the google, from google we have to download and install the python and we have to set the path using the command prompt"
   ]
  },
  {
   "cell_type": "code",
   "execution_count": 16,
   "id": "75f6f039-cac3-4320-89e4-afefdaeadb82",
   "metadata": {},
   "outputs": [],
   "source": [
    "#16. Yes indentation is required in python"
   ]
  },
  {
   "cell_type": "code",
   "execution_count": null,
   "id": "e53826a8-1dd3-4eb5-a285-d25a69bf7388",
   "metadata": {},
   "outputs": [],
   "source": []
  }
 ],
 "metadata": {
  "kernelspec": {
   "display_name": "Python 3 (ipykernel)",
   "language": "python",
   "name": "python3"
  },
  "language_info": {
   "codemirror_mode": {
    "name": "ipython",
    "version": 3
   },
   "file_extension": ".py",
   "mimetype": "text/x-python",
   "name": "python",
   "nbconvert_exporter": "python",
   "pygments_lexer": "ipython3",
   "version": "3.10.8"
  }
 },
 "nbformat": 4,
 "nbformat_minor": 5
}
